{
 "cells": [
  {
   "cell_type": "code",
   "execution_count": 3,
   "id": "60b4470c-c1b1-433f-9884-487e52110924",
   "metadata": {
    "tags": []
   },
   "outputs": [],
   "source": [
    "import pandas as pd"
   ]
  },
  {
   "cell_type": "code",
   "execution_count": 4,
   "id": "0e03b300-2aaa-4b63-b6f8-a1b88966dd52",
   "metadata": {
    "tags": []
   },
   "outputs": [],
   "source": [
    "# ler conjunto de dados do repositório remoto\n",
    "df = pd.read_csv('https://raw.githubusercontent.com/atlantico-academy/datasets/refs/heads/main/penguins.csv')\n",
    "# salvar conjunto de dados na pasta raw\n",
    "df = df.to_csv('../data/raw/data.csv', index=False)"
   ]
  },
  {
   "cell_type": "code",
   "execution_count": 6,
   "id": "7d08bfc2-4b46-4b0f-a12e-19b2db6bffc9",
   "metadata": {
    "tags": []
   },
   "outputs": [],
   "source": [
    "# Criar dicionário de dados\n",
    "data_dictionary = pd.DataFrame([\n",
    "    {\n",
    "        'variavel': 'Espécie',\n",
    "        'descricao': 'Espécie do pinguin (Adelie, Gentoo e Chrinstrap).',\n",
    "        'tipo': 'qualitativa',\n",
    "        'subtipo': 'nominal',\n",
    "    },\n",
    "    {\n",
    "        'variavel': 'Ilha',\n",
    "        'descricao': 'Ilha em que o pinguin foi observado (Biscoe, Dream e Torgersen).',\n",
    "        'tipo': 'qualitativa',\n",
    "        'subtipo': 'nominal'\n",
    "    },\n",
    "    {\n",
    "        'variavel': 'Comprimento do bico',\n",
    "        'descricao': 'Mede o comprimeto do bico em milímetros',\n",
    "        'tipo': 'quantitativa',\n",
    "        'subtipo': 'contínua'\n",
    "    },\n",
    "    {\n",
    "        'variavel': 'Profundidade do bico',\n",
    "        'descricao': 'Mede a profundidade do bico em milímetros',\n",
    "        'tipo': 'quantitativa',\n",
    "        'subtipo': 'contínua'\n",
    "    },\n",
    "    {\n",
    "        'variavel': 'Comprimento da nadadeira',\n",
    "        'descricao': 'Mede o comprimento da nadadeira em milímetros.',\n",
    "        'tipo': 'quantitativa',\n",
    "        'subtipo': 'contínua'\n",
    "    },\n",
    "    {\n",
    "        'variavel': 'Massa corporal',\n",
    "        'descricao': 'Mede a massa corporal em gramas.',\n",
    "        'tipo': 'quantitativa',\n",
    "        'subtipo': 'contínua'\n",
    "    },\n",
    "    {\n",
    "        'variavel': 'Sexo do pinguin',\n",
    "        'descricao': 'Macho ou Fêmea.',\n",
    "        'tipo': 'qualitativa',\n",
    "        'subtipo': 'nominal'\n",
    "    },\n",
    "    {\n",
    "        'variavel': 'Ano',\n",
    "        'descricao': 'Ano da coleta do dado',\n",
    "        'tipo': 'qualitativa',\n",
    "        'subtipo': 'ordinal'\n",
    "    }\n",
    "\n",
    "])\n",
    "# Salvar dicionário de dados\n",
    "data_dictionary.to_csv(\"../data/external/dictionary.csv\", index=False)"
   ]
  },
  {
   "cell_type": "code",
   "execution_count": null,
   "id": "3ae73d82-1ff2-440a-82d2-59c563e0d05c",
   "metadata": {},
   "outputs": [],
   "source": []
  }
 ],
 "metadata": {
  "kernelspec": {
   "display_name": "Python 3 (ipykernel)",
   "language": "python",
   "name": "python3"
  },
  "language_info": {
   "codemirror_mode": {
    "name": "ipython",
    "version": 3
   },
   "file_extension": ".py",
   "mimetype": "text/x-python",
   "name": "python",
   "nbconvert_exporter": "python",
   "pygments_lexer": "ipython3",
   "version": "3.10.11"
  }
 },
 "nbformat": 4,
 "nbformat_minor": 5
}
